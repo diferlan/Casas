{
 "cells": [
  {
   "cell_type": "code",
   "execution_count": 33,
   "metadata": {},
   "outputs": [],
   "source": [
    "import joblib"
   ]
  },
  {
   "cell_type": "code",
   "execution_count": 34,
   "metadata": {},
   "outputs": [],
   "source": [
    "modelo = joblib.load('/Users/diferlanderos/Desktop/RetoCasas/Casas/pipeline_houses_final.joblib')"
   ]
  },
  {
   "cell_type": "code",
   "execution_count": 35,
   "metadata": {},
   "outputs": [
    {
     "data": {
      "text/plain": [
       "array(['MSSubClass', 'MSZoning', 'LotFrontage', 'LotArea', 'Street',\n",
       "       'Alley', 'LotShape', 'LandContour', 'Utilities', 'LotConfig',\n",
       "       'LandSlope', 'Neighborhood', 'Condition1', 'Condition2',\n",
       "       'BldgType', 'HouseStyle', 'OverallQual', 'OverallCond',\n",
       "       'YearBuilt', 'YearRemodAdd', 'RoofStyle', 'RoofMatl',\n",
       "       'Exterior1st', 'Exterior2nd', 'MasVnrType', 'MasVnrArea',\n",
       "       'ExterQual', 'ExterCond', 'Foundation', 'BsmtQual', 'BsmtCond',\n",
       "       'BsmtExposure', 'BsmtFinType1', 'BsmtFinSF1', 'BsmtFinType2',\n",
       "       'BsmtFinSF2', 'BsmtUnfSF', 'TotalBsmtSF', 'Heating', 'HeatingQC',\n",
       "       'CentralAir', 'Electrical', '1stFlrSF', '2ndFlrSF', 'LowQualFinSF',\n",
       "       'GrLivArea', 'BsmtFullBath', 'BsmtHalfBath', 'FullBath',\n",
       "       'HalfBath', 'BedroomAbvGr', 'KitchenAbvGr', 'KitchenQual',\n",
       "       'TotRmsAbvGrd', 'Functional', 'Fireplaces', 'FireplaceQu',\n",
       "       'GarageType', 'GarageYrBlt', 'GarageFinish', 'GarageCars',\n",
       "       'GarageArea', 'GarageQual', 'GarageCond', 'PavedDrive',\n",
       "       'WoodDeckSF', 'OpenPorchSF', 'EnclosedPorch', '3SsnPorch',\n",
       "       'ScreenPorch', 'PoolArea', 'PoolQC', 'Fence', 'MiscFeature',\n",
       "       'MiscVal', 'MoSold', 'YrSold', 'SaleType', 'SaleCondition'],\n",
       "      dtype=object)"
      ]
     },
     "execution_count": 35,
     "metadata": {},
     "output_type": "execute_result"
    }
   ],
   "source": [
    "modelo.feature_names_in_"
   ]
  },
  {
   "cell_type": "code",
   "execution_count": 36,
   "metadata": {},
   "outputs": [],
   "source": [
    "import pandas as pd\n",
    "df = pd.read_csv('/Users/diferlanderos/Desktop/RetoCasas/Casas/train_clean.csv')\n"
   ]
  },
  {
   "cell_type": "code",
   "execution_count": 37,
   "metadata": {},
   "outputs": [],
   "source": [
    "X = df.drop('SalePrice',axis=1)\n",
    "y = df['SalePrice']"
   ]
  },
  {
   "cell_type": "code",
   "execution_count": 38,
   "metadata": {},
   "outputs": [
    {
     "data": {
      "text/plain": [
       "array([201192.3852115 , 177599.65743433, 210012.97767764, ...,\n",
       "       262842.62746267, 144377.73869923, 150366.11024471])"
      ]
     },
     "execution_count": 38,
     "metadata": {},
     "output_type": "execute_result"
    }
   ],
   "source": [
    "modelo.predict(X)"
   ]
  },
  {
   "cell_type": "code",
   "execution_count": 55,
   "metadata": {},
   "outputs": [],
   "source": [
    "features= modelo.feature_names_in_"
   ]
  },
  {
   "cell_type": "code",
   "execution_count": 46,
   "metadata": {},
   "outputs": [],
   "source": [
    "json_ = ['Tipo de vivienda en venta', 'Zonificacion',\n",
    "       'Pies conectados a la propiedad', 'Tamaño del lote', 'Calle', 'Pasillo',\n",
    "       'Forma', 'Planitud', 'Utilidades', 'Configuracion del lote',\n",
    "       'Pendiente', 'Colonia', 'Proximidad a condiciones',\n",
    "       'Proximidad a otras condiciones', 'Tipo de vivienda', 'Estilo',\n",
    "       'Calidad', 'Condicion', 'Año de construccion', 'Año de remodelacion',\n",
    "       'Estilo de techo', 'Material del techo', 'Revestimiento exterior',\n",
    "       'Otro revestimiento exterior', 'Canteria', 'Area de canteria',\n",
    "       'Calidad de materiales exteriores',\n",
    "       'Condicion de materiales exteriores', 'Cimentacion', 'Altura de sotano',\n",
    "       'Estado del sotano', 'Paredes de planta baja/jardin',\n",
    "       'Califacion de superficie del sotano', 'Acabados tipo 1',\n",
    "       'Otra califiacion de la superficie acabada del sotano',\n",
    "       'Acabados tipo 2', 'Superficie del sotano sin terminar',\n",
    "       'Superficie total del sotano', 'Tipo de calefaccion',\n",
    "       'Calidad de calefaccion', 'Aire acondicionado central',\n",
    "       'Sistema electrico', 'Primer piso', 'Segundo piso',\n",
    "       'Acabados de baja calidad', 'Superficie habitable arriba del suelo',\n",
    "       'Baños completos en el sotano', 'Medios baños en el sotano',\n",
    "       'Baños completos arriba del suelo', 'Medios baños arriba del suelo',\n",
    "       'Recamaras arriba del suelo', 'Cocina arriba del suelo',\n",
    "       'Calidad de cocina', 'Funcionalidad', 'Chimeneas',\n",
    "       'Calidad de chimenea', 'Tipo de garage',\n",
    "       'Año de construccion de garage', 'Terminacion del garage',\n",
    "       'Capacidad de coches en el garage', 'Area del garage',\n",
    "       'Calidad de garage', 'Condicion del garage', 'Calzada pavimentada',\n",
    "       'Superficie de la cubierta', 'Area de porche', 'Area de porche cerrado',\n",
    "       'Area de porche de tres estaciones', 'Area del porche cubierto',\n",
    "       'Area de la piscina', 'Calidad de la piscina', 'Calidad de valla',\n",
    "       'Elementos extra', 'Precio de elemento extra', 'Mes de venta',\n",
    "       'Año de venta', 'Tipo de venta', 'Condicion de venta']"
   ]
  },
  {
   "cell_type": "code",
   "execution_count": 47,
   "metadata": {},
   "outputs": [
    {
     "name": "stdout",
     "output_type": "stream",
     "text": [
      "79 78\n"
     ]
    }
   ],
   "source": [
    "print(len(features),len(json_))"
   ]
  },
  {
   "cell_type": "code",
   "execution_count": 48,
   "metadata": {},
   "outputs": [
    {
     "name": "stdout",
     "output_type": "stream",
     "text": [
      "Tipo de vivienda en venta -->MSSubClass\n",
      "Zonificacion -->MSZoning\n",
      "Pies conectados a la propiedad -->LotFrontage\n",
      "Tamaño del lote -->LotArea\n",
      "Calle -->Street\n",
      "Pasillo -->Alley\n",
      "Forma -->LotShape\n",
      "Planitud -->LandContour\n",
      "Utilidades -->Utilities\n",
      "Configuracion del lote -->LotConfig\n",
      "Pendiente -->LandSlope\n",
      "Colonia -->Neighborhood\n",
      "Proximidad a condiciones -->Condition1\n",
      "Proximidad a otras condiciones -->Condition2\n",
      "Tipo de vivienda -->BldgType\n",
      "Estilo -->HouseStyle\n",
      "Calidad -->OverallQual\n",
      "Condicion -->OverallCond\n",
      "Año de construccion -->YearBuilt\n",
      "Año de remodelacion -->YearRemodAdd\n",
      "Estilo de techo -->RoofStyle\n",
      "Material del techo -->RoofMatl\n",
      "Revestimiento exterior -->Exterior1st\n",
      "Otro revestimiento exterior -->Exterior2nd\n",
      "Canteria -->MasVnrType\n",
      "Area de canteria -->MasVnrArea\n",
      "Calidad de materiales exteriores -->ExterQual\n",
      "Condicion de materiales exteriores -->ExterCond\n",
      "Cimentacion -->Foundation\n",
      "Altura de sotano -->BsmtQual\n",
      "Estado del sotano -->BsmtCond\n",
      "Paredes de planta baja/jardin -->BsmtExposure\n",
      "Califacion de superficie del sotano -->BsmtFinType1\n",
      "Acabados tipo 1 -->BsmtFinSF1\n",
      "Otra califiacion de la superficie acabada del sotano -->BsmtFinType2\n",
      "Acabados tipo 2 -->BsmtFinSF2\n",
      "Superficie del sotano sin terminar -->BsmtUnfSF\n",
      "Superficie total del sotano -->TotalBsmtSF\n",
      "Tipo de calefaccion -->Heating\n",
      "Calidad de calefaccion -->HeatingQC\n",
      "Aire acondicionado central -->CentralAir\n",
      "Sistema electrico -->Electrical\n",
      "Primer piso -->1stFlrSF\n",
      "Segundo piso -->2ndFlrSF\n",
      "Acabados de baja calidad -->LowQualFinSF\n",
      "Superficie habitable arriba del suelo -->GrLivArea\n",
      "Baños completos en el sotano -->BsmtFullBath\n",
      "Medios baños en el sotano -->BsmtHalfBath\n",
      "Baños completos arriba del suelo -->FullBath\n",
      "Medios baños arriba del suelo -->HalfBath\n",
      "Recamaras arriba del suelo -->BedroomAbvGr\n",
      "Cocina arriba del suelo -->KitchenAbvGr\n",
      "Calidad de cocina -->KitchenQual\n",
      "Funcionalidad -->TotRmsAbvGrd\n",
      "Chimeneas -->Functional\n",
      "Calidad de chimenea -->Fireplaces\n",
      "Tipo de garage -->FireplaceQu\n",
      "Año de construccion de garage -->GarageType\n",
      "Terminacion del garage -->GarageYrBlt\n",
      "Capacidad de coches en el garage -->GarageFinish\n",
      "Area del garage -->GarageCars\n",
      "Calidad de garage -->GarageArea\n",
      "Condicion del garage -->GarageQual\n",
      "Calzada pavimentada -->GarageCond\n",
      "Superficie de la cubierta -->PavedDrive\n",
      "Area de porche -->WoodDeckSF\n",
      "Area de porche cerrado -->OpenPorchSF\n",
      "Area de porche de tres estaciones -->EnclosedPorch\n",
      "Area del porche cubierto -->3SsnPorch\n",
      "Area de la piscina -->ScreenPorch\n",
      "Calidad de la piscina -->PoolArea\n",
      "Calidad de valla -->PoolQC\n",
      "Elementos extra -->Fence\n",
      "Precio de elemento extra -->MiscFeature\n",
      "Mes de venta -->MiscVal\n",
      "Año de venta -->MoSold\n",
      "Tipo de venta -->YrSold\n",
      "Condicion de venta -->SaleType\n"
     ]
    }
   ],
   "source": [
    "for i in range(0,len(json_)):\n",
    "    print(f\"{json_[i]} -->{features[i]}\")"
   ]
  },
  {
   "cell_type": "code",
   "execution_count": 43,
   "metadata": {},
   "outputs": [],
   "source": [
    "train_clean_=pd.read_csv('train_clean.csv')"
   ]
  },
  {
   "cell_type": "code",
   "execution_count": 44,
   "metadata": {},
   "outputs": [
    {
     "data": {
      "text/plain": [
       "0       8\n",
       "1       6\n",
       "2       6\n",
       "3       7\n",
       "4       9\n",
       "       ..\n",
       "1374    7\n",
       "1375    7\n",
       "1376    9\n",
       "1377    5\n",
       "1378    6\n",
       "Name: TotRmsAbvGrd, Length: 1379, dtype: int64"
      ]
     },
     "execution_count": 44,
     "metadata": {},
     "output_type": "execute_result"
    }
   ],
   "source": [
    "train_clean_['TotRmsAbvGrd']"
   ]
  },
  {
   "cell_type": "code",
   "execution_count": 49,
   "metadata": {},
   "outputs": [
    {
     "data": {
      "text/plain": [
       "['MSSubClass',\n",
       " 'MSZoning',\n",
       " 'LotFrontage',\n",
       " 'LotArea',\n",
       " 'Street',\n",
       " 'Alley',\n",
       " 'LotShape',\n",
       " 'LandContour',\n",
       " 'Utilities',\n",
       " 'LotConfig',\n",
       " 'LandSlope',\n",
       " 'Neighborhood',\n",
       " 'Condition1',\n",
       " 'Condition2',\n",
       " 'BldgType',\n",
       " 'HouseStyle',\n",
       " 'OverallQual',\n",
       " 'OverallCond',\n",
       " 'YearBuilt',\n",
       " 'YearRemodAdd',\n",
       " 'RoofStyle',\n",
       " 'RoofMatl',\n",
       " 'Exterior1st',\n",
       " 'Exterior2nd',\n",
       " 'MasVnrType',\n",
       " 'MasVnrArea',\n",
       " 'ExterQual',\n",
       " 'ExterCond',\n",
       " 'Foundation',\n",
       " 'BsmtQual',\n",
       " 'BsmtCond',\n",
       " 'BsmtExposure',\n",
       " 'BsmtFinType1',\n",
       " 'BsmtFinSF1',\n",
       " 'BsmtFinType2',\n",
       " 'BsmtFinSF2',\n",
       " 'BsmtUnfSF',\n",
       " 'TotalBsmtSF',\n",
       " 'Heating',\n",
       " 'HeatingQC',\n",
       " 'CentralAir',\n",
       " 'Electrical',\n",
       " '1stFlrSF',\n",
       " '2ndFlrSF',\n",
       " 'LowQualFinSF',\n",
       " 'GrLivArea',\n",
       " 'BsmtFullBath',\n",
       " 'BsmtHalfBath',\n",
       " 'FullBath',\n",
       " 'HalfBath',\n",
       " 'BedroomAbvGr',\n",
       " 'KitchenAbvGr',\n",
       " 'KitchenQual',\n",
       " 'TotRmsAbvGrd',\n",
       " 'Functional',\n",
       " 'Fireplaces',\n",
       " 'FireplaceQu',\n",
       " 'GarageType',\n",
       " 'GarageYrBlt',\n",
       " 'GarageFinish',\n",
       " 'GarageCars',\n",
       " 'GarageArea',\n",
       " 'GarageQual',\n",
       " 'GarageCond',\n",
       " 'PavedDrive',\n",
       " 'WoodDeckSF',\n",
       " 'OpenPorchSF',\n",
       " 'EnclosedPorch',\n",
       " '3SsnPorch',\n",
       " 'ScreenPorch',\n",
       " 'PoolArea',\n",
       " 'PoolQC',\n",
       " 'Fence',\n",
       " 'MiscFeature',\n",
       " 'MiscVal',\n",
       " 'MoSold',\n",
       " 'YrSold',\n",
       " 'SaleType',\n",
       " 'SaleCondition']"
      ]
     },
     "execution_count": 49,
     "metadata": {},
     "output_type": "execute_result"
    }
   ],
   "source": [
    "[col for col in features if col not in json_]\n"
   ]
  },
  {
   "cell_type": "code",
   "execution_count": 51,
   "metadata": {},
   "outputs": [],
   "source": [
    "var_map = {'Id':'Id',\n",
    " 'MSSubClass':'Tipo de vivienda en venta',\n",
    " 'MSZoning':'Zonificacion',\n",
    " 'LotFrontage': 'Pies conectados a la propiedad',\n",
    " 'LotArea': 'Tamaño del lote',\n",
    " 'Street': 'Calle',\n",
    " 'Alley': 'Pasillo',\n",
    " 'LotShape': 'Forma',\n",
    " 'LandContour': 'Planitud',\n",
    " 'Utilities': 'Utilidades',\n",
    " 'LotConfig': 'Configuracion del lote',\n",
    " 'LandSlope':'Pendiente',\n",
    " 'Neighborhood':'Colonia',\n",
    " 'Condition1':'Proximidad a condiciones',\n",
    " 'Condition2':'Proximidad a otras condiciones',\n",
    " 'BldgType':'Tipo de vivienda',\n",
    " 'HouseStyle':'Estilo',\n",
    " 'OverallQual': 'Calidad',\n",
    " 'OverallCond':'Condicion',\n",
    " 'YearBuilt':'Año de construccion',\n",
    " 'YearRemodAdd':'Año de remodelacion',\n",
    " 'RoofStyle':'Estilo de techo',\n",
    " 'RoofMatl':'Material del techo',\n",
    " 'Exterior1st':'Revestimiento exterior',\n",
    " 'Exterior2nd':'Otro revestimiento exterior',\n",
    " 'MasVnrType':'Canteria',\n",
    " 'MasVnrArea':'Area de canteria',\n",
    " 'ExterQual':'Calidad de materiales exteriores',\n",
    " 'ExterCond':'Condicion de materiales exteriores',\n",
    " 'Foundation':'Cimentacion',\n",
    " 'BsmtQual':'Altura de sotano',\n",
    " 'BsmtCond':'Estado del sotano',\n",
    " 'BsmtExposure':'Paredes de planta baja/jardin',\n",
    " 'BsmtFinType1':'Califacion de superficie del sotano',\n",
    " 'BsmtFinSF1':'Acabados tipo 1',\n",
    " 'BsmtFinType2':'Otra califiacion de la superficie acabada del sotano',\n",
    " 'BsmtFinSF2':'Acabados tipo 2',\n",
    " 'BsmtUnfSF':'Superficie del sotano sin terminar',\n",
    " 'TotalBsmtSF':'Superficie total del sotano',\n",
    " 'Heating':'Tipo de calefaccion',\n",
    " 'HeatingQC':'Calidad de calefaccion',\n",
    " 'CentralAir':'Aire acondicionado central',\n",
    " 'Electrical':'Sistema electrico',\n",
    " '1stFlrSF':'Primer piso',\n",
    " '2ndFlrSF':'Segundo piso',\n",
    " 'LowQualFinSF':'Acabados de baja calidad',\n",
    " 'GrLivArea':'Superficie habitable arriba del suelo',\n",
    " 'BsmtFullBath':'Baños completos en el sotano',\n",
    " 'BsmtHalfBath':'Medios baños en el sotano',\n",
    " 'FullBath':'Baños completos arriba del suelo',\n",
    " 'HalfBath':'Medios baños arriba del suelo',\n",
    " 'BedroomAbvGr':'Recamaras arriba del suelo',\n",
    " 'KitchenAbvGr':'Cocina arriba del suelo',\n",
    " 'KitchenQual':'Calidad de cocina',\n",
    " 'TotRmsAbvGrd':'Total de habitaciones arriba del suelo',\n",
    " 'Functional':'Funcionalidad',\n",
    " 'Fireplaces':'Chimeneas',\n",
    " 'FireplaceQu': 'Calidad de chimenea',\n",
    " 'GarageType':'Tipo de garage',\n",
    " 'GarageYrBlt':'Año de construccion de garage',\n",
    " 'GarageFinish':'Terminacion del garage',\n",
    " 'GarageCars':'Capacidad de coches en el garage',\n",
    " 'GarageArea':'Area del garage',\n",
    " 'GarageQual':'Calidad de garage',\n",
    " 'GarageCond':'Condicion del garage',\n",
    " 'PavedDrive':'Calzada pavimentada',\n",
    " 'WoodDeckSF':'Superficie de la cubierta',\n",
    " 'OpenPorchSF':'Area de porche',\n",
    " 'EnclosedPorch':'Area de porche cerrado',\n",
    " '3SsnPorch':'Area de porche de tres estaciones',\n",
    " 'ScreenPorch':'Area del porche cubierto',\n",
    " 'PoolArea':'Area de la piscina',\n",
    " 'PoolQC':'Calidad de la piscina',\n",
    " 'Fence':'Calidad de valla',\n",
    " 'MiscFeature':'Elementos extra',\n",
    " 'MiscVal':'Precio de elemento extra',\n",
    " 'MoSold':'Mes de venta',\n",
    " 'YrSold':'Año de venta',\n",
    " 'SaleType':'Tipo de venta',\n",
    " 'SaleCondition':'Condicion de venta',\n",
    " 'SalePrice':'Precio de venta'}"
   ]
  },
  {
   "cell_type": "code",
   "execution_count": 52,
   "metadata": {},
   "outputs": [],
   "source": [
    "inverse_dict = {v: k for k, v in var_map.items()}"
   ]
  },
  {
   "cell_type": "code",
   "execution_count": 56,
   "metadata": {},
   "outputs": [
    {
     "data": {
      "text/plain": [
       "{'Id': 'Id',\n",
       " 'Tipo de vivienda en venta': 'MSSubClass',\n",
       " 'Zonificacion': 'MSZoning',\n",
       " 'Pies conectados a la propiedad': 'LotFrontage',\n",
       " 'Tamaño del lote': 'LotArea',\n",
       " 'Calle': 'Street',\n",
       " 'Pasillo': 'Alley',\n",
       " 'Forma': 'LotShape',\n",
       " 'Planitud': 'LandContour',\n",
       " 'Utilidades': 'Utilities',\n",
       " 'Configuracion del lote': 'LotConfig',\n",
       " 'Pendiente': 'LandSlope',\n",
       " 'Colonia': 'Neighborhood',\n",
       " 'Proximidad a condiciones': 'Condition1',\n",
       " 'Proximidad a otras condiciones': 'Condition2',\n",
       " 'Tipo de vivienda': 'BldgType',\n",
       " 'Estilo': 'HouseStyle',\n",
       " 'Calidad': 'OverallQual',\n",
       " 'Condicion': 'OverallCond',\n",
       " 'Año de construccion': 'YearBuilt',\n",
       " 'Año de remodelacion': 'YearRemodAdd',\n",
       " 'Estilo de techo': 'RoofStyle',\n",
       " 'Material del techo': 'RoofMatl',\n",
       " 'Revestimiento exterior': 'Exterior1st',\n",
       " 'Otro revestimiento exterior': 'Exterior2nd',\n",
       " 'Canteria': 'MasVnrType',\n",
       " 'Area de canteria': 'MasVnrArea',\n",
       " 'Calidad de materiales exteriores': 'ExterQual',\n",
       " 'Condicion de materiales exteriores': 'ExterCond',\n",
       " 'Cimentacion': 'Foundation',\n",
       " 'Altura de sotano': 'BsmtQual',\n",
       " 'Estado del sotano': 'BsmtCond',\n",
       " 'Paredes de planta baja/jardin': 'BsmtExposure',\n",
       " 'Califacion de superficie del sotano': 'BsmtFinType1',\n",
       " 'Acabados tipo 1': 'BsmtFinSF1',\n",
       " 'Otra califiacion de la superficie acabada del sotano': 'BsmtFinType2',\n",
       " 'Acabados tipo 2': 'BsmtFinSF2',\n",
       " 'Superficie del sotano sin terminar': 'BsmtUnfSF',\n",
       " 'Superficie total del sotano': 'TotalBsmtSF',\n",
       " 'Tipo de calefaccion': 'Heating',\n",
       " 'Calidad de calefaccion': 'HeatingQC',\n",
       " 'Aire acondicionado central': 'CentralAir',\n",
       " 'Sistema electrico': 'Electrical',\n",
       " 'Primer piso': '1stFlrSF',\n",
       " 'Segundo piso': '2ndFlrSF',\n",
       " 'Acabados de baja calidad': 'LowQualFinSF',\n",
       " 'Superficie habitable arriba del suelo': 'GrLivArea',\n",
       " 'Baños completos en el sotano': 'BsmtFullBath',\n",
       " 'Medios baños en el sotano': 'BsmtHalfBath',\n",
       " 'Baños completos arriba del suelo': 'FullBath',\n",
       " 'Medios baños arriba del suelo': 'HalfBath',\n",
       " 'Recamaras arriba del suelo': 'BedroomAbvGr',\n",
       " 'Cocina arriba del suelo': 'KitchenAbvGr',\n",
       " 'Calidad de cocina': 'KitchenQual',\n",
       " 'Total de habitaciones arriba del suelo': 'TotRmsAbvGrd',\n",
       " 'Funcionalidad': 'Functional',\n",
       " 'Chimeneas': 'Fireplaces',\n",
       " 'Calidad de chimenea': 'FireplaceQu',\n",
       " 'Tipo de garage': 'GarageType',\n",
       " 'Año de construccion de garage': 'GarageYrBlt',\n",
       " 'Terminacion del garage': 'GarageFinish',\n",
       " 'Capacidad de coches en el garage': 'GarageCars',\n",
       " 'Area del garage': 'GarageArea',\n",
       " 'Calidad de garage': 'GarageQual',\n",
       " 'Condicion del garage': 'GarageCond',\n",
       " 'Calzada pavimentada': 'PavedDrive',\n",
       " 'Superficie de la cubierta': 'WoodDeckSF',\n",
       " 'Area de porche': 'OpenPorchSF',\n",
       " 'Area de porche cerrado': 'EnclosedPorch',\n",
       " 'Area de porche de tres estaciones': '3SsnPorch',\n",
       " 'Area del porche cubierto': 'ScreenPorch',\n",
       " 'Area de la piscina': 'PoolArea',\n",
       " 'Calidad de la piscina': 'PoolQC',\n",
       " 'Calidad de valla': 'Fence',\n",
       " 'Elementos extra': 'MiscFeature',\n",
       " 'Precio de elemento extra': 'MiscVal',\n",
       " 'Mes de venta': 'MoSold',\n",
       " 'Año de venta': 'YrSold',\n",
       " 'Tipo de venta': 'SaleType',\n",
       " 'Condicion de venta': 'SaleCondition',\n",
       " 'Precio de venta': 'SalePrice'}"
      ]
     },
     "execution_count": 56,
     "metadata": {},
     "output_type": "execute_result"
    }
   ],
   "source": [
    "inverse_dict"
   ]
  },
  {
   "cell_type": "code",
   "execution_count": 58,
   "metadata": {},
   "outputs": [
    {
     "data": {
      "text/plain": [
       "'Neighborhood'"
      ]
     },
     "execution_count": 58,
     "metadata": {},
     "output_type": "execute_result"
    }
   ],
   "source": [
    "inverse_dict['Colonia']"
   ]
  },
  {
   "cell_type": "code",
   "execution_count": null,
   "metadata": {},
   "outputs": [],
   "source": []
  }
 ],
 "metadata": {
  "kernelspec": {
   "display_name": "base",
   "language": "python",
   "name": "python3"
  },
  "language_info": {
   "codemirror_mode": {
    "name": "ipython",
    "version": 3
   },
   "file_extension": ".py",
   "mimetype": "text/x-python",
   "name": "python",
   "nbconvert_exporter": "python",
   "pygments_lexer": "ipython3",
   "version": "3.8.8"
  },
  "orig_nbformat": 4
 },
 "nbformat": 4,
 "nbformat_minor": 2
}
