{
 "cells": [
  {
   "cell_type": "code",
   "execution_count": 211,
   "metadata": {},
   "outputs": [],
   "source": [
    "import pandas as pd\n",
    "import numpy as np\n",
    "import joblib"
   ]
  },
  {
   "cell_type": "code",
   "execution_count": 212,
   "metadata": {},
   "outputs": [],
   "source": [
    "var_map = {'Id':'Id',\n",
    " 'MSSubClass':'Tipo de vivienda en venta',\n",
    " 'MSZoning':'Zonificacion',\n",
    " 'LotFrontage': 'Pies conectados a la propiedad',\n",
    " 'LotArea': 'Tamaño del lote',\n",
    " 'Street': 'Calle',\n",
    " 'Alley': 'Pasillo',\n",
    " 'LotShape': 'Forma',\n",
    " 'LandContour': 'Planitud',\n",
    " 'Utilities': 'Utilidades',\n",
    " 'LotConfig': 'Configuracion del lote',\n",
    " 'LandSlope':'Pendiente',\n",
    " 'Neighborhood':'Colonia',\n",
    " 'Condition1':'Proximidad a condiciones',\n",
    " 'Condition2':'Proximidad a otras condiciones',\n",
    " 'BldgType':'Tipo de vivienda',\n",
    " 'HouseStyle':'Estilo',\n",
    " 'OverallQual': 'Calidad',\n",
    " 'OverallCond':'Condicion',\n",
    " 'YearBuilt':'Año de construccion',\n",
    " 'YearRemodAdd':'Año de remodelacion',\n",
    " 'RoofStyle':'Estilo de techo',\n",
    " 'RoofMatl':'Material del techo',\n",
    " 'Exterior1st':'Revestimiento exterior',\n",
    " 'Exterior2nd':'Otro revestimiento exterior',\n",
    " 'MasVnrType':'Canteria',\n",
    " 'MasVnrArea':'Area de canteria',\n",
    " 'ExterQual':'Calidad de materiales exteriores',\n",
    " 'ExterCond':'Condicion de materiales exteriores',\n",
    " 'Foundation':'Cimentacion',\n",
    " 'BsmtQual':'Altura de sotano',\n",
    " 'BsmtCond':'Estado del sotano',\n",
    " 'BsmtExposure':'Paredes de planta baja/jardin',\n",
    " 'BsmtFinType1':'Califacion de superficie del sotano',\n",
    " 'BsmtFinSF1':'Acabados tipo 1',\n",
    " 'BsmtFinType2':'Otra califiacion de la superficie acabada del sotano',\n",
    " 'BsmtFinSF2':'Acabados tipo 2',\n",
    " 'BsmtUnfSF':'Superficie del sotano sin terminar',\n",
    " 'TotalBsmtSF':'Superficie total del sotano',\n",
    " 'Heating':'Tipo de calefaccion',\n",
    " 'HeatingQC':'Calidad de calefaccion',\n",
    " 'CentralAir':'Aire acondicionado central',\n",
    " 'Electrical':'Sistema electrico',\n",
    " '1stFlrSF':'Primer piso',\n",
    " '2ndFlrSF':'Segundo piso',\n",
    " 'LowQualFinSF':'Acabados de baja calidad',\n",
    " 'GrLivArea':'Superficie habitable arriba del suelo',\n",
    " 'BsmtFullBath':'Baños completos en el sotano',\n",
    " 'BsmtHalfBath':'Medios baños en el sotano',\n",
    " 'FullBath':'Baños completos arriba del suelo',\n",
    " 'HalfBath':'Medios baños arriba del suelo',\n",
    " 'BedroomAbvGr':'Recamaras arriba del suelo',\n",
    " 'KitchenAbvGr':'Cocina arriba del suelo',\n",
    " 'KitchenQual':'Calidad de cocina',\n",
    " 'TotRmsAbvGrd':'Total de habitaciones arriba del suelo',\n",
    " 'Functional':'Funcionalidad',\n",
    " 'Fireplaces':'Chimeneas',\n",
    " 'FireplaceQu': 'Calidad de chimenea',\n",
    " 'GarageType':'Tipo de garage',\n",
    " 'GarageYrBlt':'Año de construccion de garage',\n",
    " 'GarageFinish':'Terminacion del garage',\n",
    " 'GarageCars':'Capacidad de coches en el garage',\n",
    " 'GarageArea':'Area del garage',\n",
    " 'GarageQual':'Calidad de garage',\n",
    " 'GarageCond':'Condicion del garage',\n",
    " 'PavedDrive':'Calzada pavimentada',\n",
    " 'WoodDeckSF':'Superficie de la cubierta',\n",
    " 'OpenPorchSF':'Area de porche',\n",
    " 'EnclosedPorch':'Area de porche cerrado',\n",
    " '3SsnPorch':'Area de porche de tres estaciones',\n",
    " 'ScreenPorch':'Area del porche cubierto',\n",
    " 'PoolArea':'Area de la piscina',\n",
    " 'PoolQC':'Calidad de la piscina',\n",
    " 'Fence':'Calidad de valla',\n",
    " 'MiscFeature':'Elementos extra',\n",
    " 'MiscVal':'Precio de elemento extra',\n",
    " 'MoSold':'Mes de venta',\n",
    " 'YrSold':'Año de venta',\n",
    " 'SaleType':'Tipo de venta',\n",
    " 'SaleCondition':'Condicion de venta',\n",
    " 'SalePrice':'Precio de venta'}"
   ]
  },
  {
   "cell_type": "code",
   "execution_count": 213,
   "metadata": {},
   "outputs": [],
   "source": [
    "df = pd.read_csv('train_clean.csv')\n",
    "df.drop('Unnamed: 0', axis=1, inplace=True)\n",
    "#df.rename(columns=var_map,inplace=True)\n",
    "numeric_cols = df.select_dtypes(include=['number']).columns\n",
    "categ_cols = df.select_dtypes(include=['object']).columns\n"
   ]
  },
  {
   "cell_type": "code",
   "execution_count": 214,
   "metadata": {},
   "outputs": [],
   "source": [
    "X = df.drop('SalePrice',axis=1)\n",
    "y = df['SalePrice']"
   ]
  },
  {
   "cell_type": "code",
   "execution_count": 215,
   "metadata": {},
   "outputs": [],
   "source": [
    "#PREPROCESAMIENTO\n",
    "from sklearn.compose import ColumnTransformer\n",
    "from sklearn.preprocessing import StandardScaler, OneHotEncoder\n",
    "#Escalamiento para las variables numericas\n",
    "#Dummies para las variables categoricas\n",
    "preprocessing = ColumnTransformer(transformers=[\n",
    "        ('num', StandardScaler(), numeric_cols[:-1]),\n",
    "        ('cat', OneHotEncoder(handle_unknown='ignore'), categ_cols)\n",
    "    ])"
   ]
  },
  {
   "cell_type": "code",
   "execution_count": 216,
   "metadata": {},
   "outputs": [],
   "source": [
    "from sklearn.pipeline import Pipeline\n",
    "from sklearn.ensemble import GradientBoostingRegressor\n",
    "modelo = GradientBoostingRegressor(criterion= 'squared_error', learning_rate= 0.2,\n",
    "                                    loss= 'squared_error', n_estimators= 200) \n",
    "                                    #subsample= 0.1) #0.018\n",
    "pipeline = Pipeline(steps=[('preprocessor', preprocessing),\n",
    "                           ('model', modelo)])"
   ]
  },
  {
   "cell_type": "code",
   "execution_count": 217,
   "metadata": {},
   "outputs": [
    {
     "data": {
      "text/plain": [
       "'\\nfrom sklearn.model_selection import GridSearchCV\\n# Definir los hiperparámetros que deseas ajustar y los valores posibles\\nparam_grid = {\\n    \\'model__loss\\': [\\'squared_error\\', \\'absolute_error\\', \\'huber\\', \\'quantile\\'],  # Los tipos de perdida\\'squared_error’, ‘absolute_error’, ‘huber’, ‘quantile’},  # Número de estimadores (árboles)\\n    \\'model__learning_rate\\': np.linspace(0.01, 0.1, 1),  # Tasa de aprendizaje\\n    \\'model__n_estimators\\': [50, 100, 200, 300, 500],  # NÃ®mero de estimadores,  # Profundidad máxima del árbol\\n    \\'model__subsample\\': np.linspace(0.1, 1, 1),  # Proporción de muestras en cada nodo,  # Mínimo de muestras para dividir un nodo\\n    \\'model__criterion\\': [\\'friedman_mse\\', \\'squared_error\\']  # Mínimo de muestras en una hoja\\n}\\n\\n# Realizar una búsqueda de hiperparámetros utilizando Grid Search Cross-Validation\\ngrid_search = GridSearchCV(pipeline, param_grid, cv=5, scoring=\\'neg_mean_squared_error\\')\\ngrid_search.fit(X, y)  # X_train e y_train son tus datos de entrenamiento\\n\\n# Obtener los mejores hiperparámetros\\nbest_params = grid_search.best_params_\\nprint(\"Mejores hiperparámetros:\", best_params)\\n'"
      ]
     },
     "execution_count": 217,
     "metadata": {},
     "output_type": "execute_result"
    }
   ],
   "source": [
    "'''\n",
    "from sklearn.model_selection import GridSearchCV\n",
    "# Definir los hiperparámetros que deseas ajustar y los valores posibles\n",
    "param_grid = {\n",
    "    'model__loss': ['squared_error', 'absolute_error', 'huber', 'quantile'],  # Los tipos de perdida'squared_error’, ‘absolute_error’, ‘huber’, ‘quantile’},  # Número de estimadores (árboles)\n",
    "    'model__learning_rate': np.linspace(0.01, 0.1, 1),  # Tasa de aprendizaje\n",
    "    'model__n_estimators': [50, 100, 200, 300, 500],  # NÃ®mero de estimadores,  # Profundidad máxima del árbol\n",
    "    'model__subsample': np.linspace(0.1, 1, 1),  # Proporción de muestras en cada nodo,  # Mínimo de muestras para dividir un nodo\n",
    "    'model__criterion': ['friedman_mse', 'squared_error']  # Mínimo de muestras en una hoja\n",
    "}\n",
    "\n",
    "# Realizar una búsqueda de hiperparámetros utilizando Grid Search Cross-Validation\n",
    "grid_search = GridSearchCV(pipeline, param_grid, cv=5, scoring='neg_mean_squared_error')\n",
    "grid_search.fit(X, y)  # X_train e y_train son tus datos de entrenamiento\n",
    "\n",
    "# Obtener los mejores hiperparámetros\n",
    "best_params = grid_search.best_params_\n",
    "print(\"Mejores hiperparámetros:\", best_params)\n",
    "'''"
   ]
  },
  {
   "cell_type": "code",
   "execution_count": 218,
   "metadata": {},
   "outputs": [
    {
     "data": {
      "text/plain": [
       "0.04632793120591924"
      ]
     },
     "execution_count": 218,
     "metadata": {},
     "output_type": "execute_result"
    }
   ],
   "source": [
    "pipeline.fit(X, y)\n",
    "y_pred = pipeline.predict(X)\n",
    "from sklearn.metrics import mean_squared_error\n",
    "import math\n",
    "math.sqrt(mean_squared_error(np.log(y), np.log(y_pred)))"
   ]
  },
  {
   "cell_type": "code",
   "execution_count": null,
   "metadata": {},
   "outputs": [],
   "source": []
  },
  {
   "cell_type": "code",
   "execution_count": 219,
   "metadata": {},
   "outputs": [],
   "source": [
    "#version = 1"
   ]
  },
  {
   "cell_type": "markdown",
   "metadata": {},
   "source": [
    "Prueba: Leer test, llenar NA y hacer predicciones. Exportar a csv"
   ]
  },
  {
   "cell_type": "code",
   "execution_count": 220,
   "metadata": {},
   "outputs": [],
   "source": [
    "test = pd.read_csv('test.csv')\n",
    "X_ = test.drop(['Id'],axis=1)\n",
    "y_ = test['Id']\n",
    "media = X_[['YearBuilt', 'YearRemodAdd','GarageYrBlt','YrSold']].mean()\n",
    "X_[['YearBuilt', 'YearRemodAdd','GarageYrBlt','YrSold']].fillna(media)\n",
    "X_.fillna(0,inplace=True)\n",
    "results = pipeline.predict(X_)\n",
    "\n",
    "csv =pd.DataFrame({'Id':test['Id'], 'SalePrice': results})\n",
    "csv.to_csv(f'predicciones/test_results_{version}.csv',index=False)\n",
    "version += 1"
   ]
  },
  {
   "cell_type": "code",
   "execution_count": 221,
   "metadata": {},
   "outputs": [
    {
     "data": {
      "text/plain": [
       "array(['MSSubClass', 'MSZoning', 'LotFrontage', 'LotArea', 'Street',\n",
       "       'Alley', 'LotShape', 'LandContour', 'Utilities', 'LotConfig',\n",
       "       'LandSlope', 'Neighborhood', 'Condition1', 'Condition2',\n",
       "       'BldgType', 'HouseStyle', 'OverallQual', 'OverallCond',\n",
       "       'YearBuilt', 'YearRemodAdd', 'RoofStyle', 'RoofMatl',\n",
       "       'Exterior1st', 'Exterior2nd', 'MasVnrType', 'MasVnrArea',\n",
       "       'ExterQual', 'ExterCond', 'Foundation', 'BsmtQual', 'BsmtCond',\n",
       "       'BsmtExposure', 'BsmtFinType1', 'BsmtFinSF1', 'BsmtFinType2',\n",
       "       'BsmtFinSF2', 'BsmtUnfSF', 'TotalBsmtSF', 'Heating', 'HeatingQC',\n",
       "       'CentralAir', 'Electrical', '1stFlrSF', '2ndFlrSF', 'LowQualFinSF',\n",
       "       'GrLivArea', 'BsmtFullBath', 'BsmtHalfBath', 'FullBath',\n",
       "       'HalfBath', 'BedroomAbvGr', 'KitchenAbvGr', 'KitchenQual',\n",
       "       'TotRmsAbvGrd', 'Functional', 'Fireplaces', 'FireplaceQu',\n",
       "       'GarageType', 'GarageYrBlt', 'GarageFinish', 'GarageCars',\n",
       "       'GarageArea', 'GarageQual', 'GarageCond', 'PavedDrive',\n",
       "       'WoodDeckSF', 'OpenPorchSF', 'EnclosedPorch', '3SsnPorch',\n",
       "       'ScreenPorch', 'PoolArea', 'PoolQC', 'Fence', 'MiscFeature',\n",
       "       'MiscVal', 'MoSold', 'YrSold', 'SaleType', 'SaleCondition'],\n",
       "      dtype=object)"
      ]
     },
     "execution_count": 221,
     "metadata": {},
     "output_type": "execute_result"
    }
   ],
   "source": [
    "pipeline.feature_names_in_"
   ]
  },
  {
   "cell_type": "code",
   "execution_count": 225,
   "metadata": {},
   "outputs": [
    {
     "data": {
      "text/plain": [
       "['pipeline_houses_final_v3.joblib']"
      ]
     },
     "execution_count": 225,
     "metadata": {},
     "output_type": "execute_result"
    }
   ],
   "source": [
    "joblib.dump(pipeline,'pipeline_houses_final_v3.joblib')"
   ]
  },
  {
   "cell_type": "code",
   "execution_count": 223,
   "metadata": {},
   "outputs": [
    {
     "name": "stdout",
     "output_type": "stream",
     "text": [
      "['MSSubClass' 'MSZoning' 'LotFrontage' 'LotArea' 'Street' 'Alley'\n",
      " 'LotShape' 'LandContour' 'Utilities' 'LotConfig' 'LandSlope'\n",
      " 'Neighborhood' 'Condition1' 'Condition2' 'BldgType' 'HouseStyle'\n",
      " 'OverallQual' 'OverallCond' 'YearBuilt' 'YearRemodAdd' 'RoofStyle'\n",
      " 'RoofMatl' 'Exterior1st' 'Exterior2nd' 'MasVnrType' 'MasVnrArea'\n",
      " 'ExterQual' 'ExterCond' 'Foundation' 'BsmtQual' 'BsmtCond' 'BsmtExposure'\n",
      " 'BsmtFinType1' 'BsmtFinSF1' 'BsmtFinType2' 'BsmtFinSF2' 'BsmtUnfSF'\n",
      " 'TotalBsmtSF' 'Heating' 'HeatingQC' 'CentralAir' 'Electrical' '1stFlrSF'\n",
      " '2ndFlrSF' 'LowQualFinSF' 'GrLivArea' 'BsmtFullBath' 'BsmtHalfBath'\n",
      " 'FullBath' 'HalfBath' 'BedroomAbvGr' 'KitchenAbvGr' 'KitchenQual'\n",
      " 'TotRmsAbvGrd' 'Functional' 'Fireplaces' 'FireplaceQu' 'GarageType'\n",
      " 'GarageYrBlt' 'GarageFinish' 'GarageCars' 'GarageArea' 'GarageQual'\n",
      " 'GarageCond' 'PavedDrive' 'WoodDeckSF' 'OpenPorchSF' 'EnclosedPorch'\n",
      " '3SsnPorch' 'ScreenPorch' 'PoolArea' 'PoolQC' 'Fence' 'MiscFeature'\n",
      " 'MiscVal' 'MoSold' 'YrSold' 'SaleType' 'SaleCondition' 'SalePrice']\n"
     ]
    }
   ],
   "source": [
    "import json\n",
    "with open('casas.json', 'r') as archivo:\n",
    "    casas_json = json.load(archivo)\n",
    "# Convierte el JSON nuevamente en un DataFrame\n",
    "df = pd.DataFrame(casas_json['casas'])\n",
    "print(np.array(df.columns))"
   ]
  },
  {
   "cell_type": "code",
   "execution_count": 224,
   "metadata": {},
   "outputs": [
    {
     "data": {
      "text/plain": [
       "MSSubClass           20\n",
       "MSZoning             RL\n",
       "LotFrontage        75.0\n",
       "LotArea            9937\n",
       "Street             Pave\n",
       "                  ...  \n",
       "MoSold                6\n",
       "YrSold             2008\n",
       "SaleType             WD\n",
       "SaleCondition    Normal\n",
       "SalePrice        147500\n",
       "Name: 1378, Length: 80, dtype: object"
      ]
     },
     "execution_count": 224,
     "metadata": {},
     "output_type": "execute_result"
    }
   ],
   "source": [
    "df.iloc[-1]"
   ]
  },
  {
   "cell_type": "code",
   "execution_count": null,
   "metadata": {},
   "outputs": [],
   "source": []
  }
 ],
 "metadata": {
  "kernelspec": {
   "display_name": "base",
   "language": "python",
   "name": "python3"
  },
  "language_info": {
   "codemirror_mode": {
    "name": "ipython",
    "version": 3
   },
   "file_extension": ".py",
   "mimetype": "text/x-python",
   "name": "python",
   "nbconvert_exporter": "python",
   "pygments_lexer": "ipython3",
   "version": "3.8.8"
  },
  "orig_nbformat": 4
 },
 "nbformat": 4,
 "nbformat_minor": 2
}
